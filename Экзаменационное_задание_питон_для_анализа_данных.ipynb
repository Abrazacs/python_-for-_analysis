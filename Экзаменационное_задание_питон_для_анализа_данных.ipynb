{
  "nbformat": 4,
  "nbformat_minor": 0,
  "metadata": {
    "colab": {
      "provenance": [],
      "authorship_tag": "ABX9TyOozLsjWzfjPt1RYd7V2zTW",
      "include_colab_link": true
    },
    "kernelspec": {
      "name": "python3",
      "display_name": "Python 3"
    },
    "language_info": {
      "name": "python"
    }
  },
  "cells": [
    {
      "cell_type": "markdown",
      "metadata": {
        "id": "view-in-github",
        "colab_type": "text"
      },
      "source": [
        "<a href=\"https://colab.research.google.com/github/Abrazacs/python_-for-_analysis/blob/main/%D0%AD%D0%BA%D0%B7%D0%B0%D0%BC%D0%B5%D0%BD%D0%B0%D1%86%D0%B8%D0%BE%D0%BD%D0%BD%D0%BE%D0%B5_%D0%B7%D0%B0%D0%B4%D0%B0%D0%BD%D0%B8%D0%B5_%D0%BF%D0%B8%D1%82%D0%BE%D0%BD_%D0%B4%D0%BB%D1%8F_%D0%B0%D0%BD%D0%B0%D0%BB%D0%B8%D0%B7%D0%B0_%D0%B4%D0%B0%D0%BD%D0%BD%D1%8B%D1%85.ipynb\" target=\"_parent\"><img src=\"https://colab.research.google.com/assets/colab-badge.svg\" alt=\"Open In Colab\"/></a>"
      ]
    },
    {
      "cell_type": "code",
      "source": [
        "import numpy as np\n",
        "import pandas as pd\n",
        "import matplotlib.pyplot as plt\n",
        "import requests"
      ],
      "metadata": {
        "id": "fM9ipf4mlQUA"
      },
      "execution_count": 35,
      "outputs": []
    },
    {
      "cell_type": "markdown",
      "source": [
        "**Задание 1:**\n",
        "\n",
        "Работа с массивами NumPy\n",
        "\n",
        "Цель:\n",
        "\n",
        "Проверить знание методов NumPy для анализа данных.\n",
        "\n",
        "Задание:\n",
        "\n",
        "Создайте массив случайных чисел (50 элементов) из диапазона [10, 100].\n",
        "Найдите:\n",
        "Среднее арифметическое массива.\n",
        "Медиану.\n",
        "Стандартное отклонение.\n",
        "Создайте новый массив, где каждое число изначального массива делится на 3. Отфильтруйте числа, которые делятся без остатка."
      ],
      "metadata": {
        "id": "7KYUQiSRQmIh"
      }
    },
    {
      "cell_type": "code",
      "execution_count": 36,
      "metadata": {
        "colab": {
          "base_uri": "https://localhost:8080/"
        },
        "id": "Vmn_8BNDQavO",
        "outputId": "1562f47c-94b6-4071-ed4c-fa2909f740cb"
      },
      "outputs": [
        {
          "output_type": "stream",
          "name": "stdout",
          "text": [
            "Исходный массив: [25 54 36 39 92 28 72 17 72 23 87 91 44 94 73 60 93 54 94 82 19 79 17 45\n",
            " 45 12 31 25 20 84 35 41 34 36 28 76 99 48 87 75 78 86 36 25 97 44 46 25\n",
            " 46 17]\n",
            "Среднее арифметическое: 53.32\n",
            "Медиана: 45.5\n",
            "Стандартное отклонение: 27.038076854687723\n",
            "Новый массив: [ 8.33333333 18.         12.         13.         30.66666667  9.33333333\n",
            " 24.          5.66666667 24.          7.66666667 29.         30.33333333\n",
            " 14.66666667 31.33333333 24.33333333 20.         31.         18.\n",
            " 31.33333333 27.33333333  6.33333333 26.33333333  5.66666667 15.\n",
            " 15.          4.         10.33333333  8.33333333  6.66666667 28.\n",
            " 11.66666667 13.66666667 11.33333333 12.          9.33333333 25.33333333\n",
            " 33.         16.         29.         25.         26.         28.66666667\n",
            " 12.          8.33333333 32.33333333 14.66666667 15.33333333  8.33333333\n",
            " 15.33333333  5.66666667]\n",
            "Отфильтрованный массив: [18. 12. 13. 24. 24. 29. 20. 31. 18. 15. 15.  4. 28. 12. 33. 16. 29. 25.\n",
            " 26. 12.]\n"
          ]
        }
      ],
      "source": [
        "arr = np.random.randint(10, 101, size=50)\n",
        "\n",
        "print(f\"Исходный массив: {arr}\")\n",
        "\n",
        "mean = np.mean(arr)\n",
        "median = np.median(arr)\n",
        "std = np.std(arr)\n",
        "\n",
        "print(f\"Среднее арифметическое: {mean}\")\n",
        "print(f\"Медиана: {median}\")\n",
        "print(f\"Стандартное отклонение: {std}\")\n",
        "\n",
        "new_arr = arr / 3\n",
        "filtered_arr = new_arr[new_arr % 1 == 0]\n",
        "\n",
        "print(f\"Новый массив: {new_arr}\")\n",
        "print(f\"Отфильтрованный массив: {filtered_arr}\")"
      ]
    },
    {
      "cell_type": "markdown",
      "source": [
        "**Задание 2:**\n",
        "\n",
        "Анализ данных с помощью Pandas\n",
        "Цель: Проверить навыки анализа и обработки данных.\n",
        "\n",
        "Данные: Используйте предоставленный CSV-файл (\"sales_data_large.csv\"), содержащий данные о продажах с полями:\n",
        "\n",
        "date (дата продаж),\n",
        "region (регион),\n",
        "product (продукт),\n",
        "sales (объем продаж).\n",
        "Задание:\n",
        "\n",
        "Загрузите данные из файла.\n",
        "Определите:\n",
        "\n",
        "1. Общее количество записей.\n",
        "2. Какие регионы и продукты присутствуют в данных.\n",
        "\n",
        "Подсчитайте:\n",
        "\n",
        "3. Общие продажи по регионам.\n",
        "4. Средний объем продаж для каждого продукта.\n",
        "5. Постройте сводную таблицу, показывающую средние продажи по регионам и продуктам."
      ],
      "metadata": {
        "id": "APGFGVlicDeE"
      }
    },
    {
      "cell_type": "code",
      "source": [
        "df = pd.read_csv('sales_data_large.csv', sep = ',')\n",
        "print(f\"Общее количество записей: {df.shape[0]}\")\n",
        "print(f\"Уникальные продукты: {df['product'].unique()}\")\n",
        "print(f\"Уникальные регионы: {df['region'].unique()}\")"
      ],
      "metadata": {
        "colab": {
          "base_uri": "https://localhost:8080/"
        },
        "id": "BWT070IHcZsv",
        "outputId": "7d469491-453b-46e6-dd7d-b71dfb2a4e81"
      },
      "execution_count": 9,
      "outputs": [
        {
          "output_type": "stream",
          "name": "stdout",
          "text": [
            "Общее количество записей: 500\n",
            "Уникальные продукты: ['Widget C' 'Widget B' 'Widget A']\n",
            "Уникальные регионы: ['West' 'South' 'East' 'North']\n"
          ]
        }
      ]
    },
    {
      "cell_type": "code",
      "source": [
        "sales_by_region = df.groupby('region')['sales'].sum()\n",
        "print(f\"Продажи по регионам:\\n{sales_by_region}\")"
      ],
      "metadata": {
        "colab": {
          "base_uri": "https://localhost:8080/"
        },
        "id": "4_i3b0WJdjqk",
        "outputId": "aad8e93d-4e5f-4725-c466-1af6a51b6fd5"
      },
      "execution_count": 14,
      "outputs": [
        {
          "output_type": "stream",
          "name": "stdout",
          "text": [
            "Продажи по регионам:\n",
            "region\n",
            "East     29244\n",
            "North    39605\n",
            "South    33023\n",
            "West     35171\n",
            "Name: sales, dtype: int64\n"
          ]
        }
      ]
    },
    {
      "cell_type": "code",
      "source": [
        "average_sales_by_product = df.groupby('product')['sales'].mean()\n",
        "print(f\"Средние продажи по продуктам:\\n{average_sales_by_product}\")"
      ],
      "metadata": {
        "colab": {
          "base_uri": "https://localhost:8080/"
        },
        "id": "YETeeWmqeBml",
        "outputId": "f8c8202b-8573-4bd7-d155-4ebbe3276989"
      },
      "execution_count": 15,
      "outputs": [
        {
          "output_type": "stream",
          "name": "stdout",
          "text": [
            "Средние продажи по продуктам:\n",
            "product\n",
            "Widget A    275.424242\n",
            "Widget B    268.331361\n",
            "Widget C    278.614458\n",
            "Name: sales, dtype: float64\n"
          ]
        }
      ]
    },
    {
      "cell_type": "code",
      "source": [
        "pivot_table = pd.pivot_table(df, values='sales', index='region', columns='product', aggfunc='mean')\n",
        "print(f\"Сводная таблица средних продаж по регионам и продуктам:\\n{pivot_table}\")"
      ],
      "metadata": {
        "colab": {
          "base_uri": "https://localhost:8080/"
        },
        "id": "YH7SRQjyeoXj",
        "outputId": "852756d6-9a03-4e26-ccc6-7f78259e38ec"
      },
      "execution_count": 16,
      "outputs": [
        {
          "output_type": "stream",
          "name": "stdout",
          "text": [
            "Сводная таблица средних продаж по регионам и продуктам:\n",
            "product    Widget A    Widget B    Widget C\n",
            "region                                     \n",
            "East     291.464286  263.116279  271.361111\n",
            "North    289.145833  238.477273  304.660000\n",
            "South    277.380952  282.833333  263.722222\n",
            "West     250.106383  291.550000  267.136364\n"
          ]
        }
      ]
    },
    {
      "cell_type": "markdown",
      "source": [
        "**Задание 3:**\n",
        "\n",
        "Очистка данных и визуализация\n",
        "\n",
        "Цель:\n",
        "\n",
        "Проверить умение находить и исправлять ошибки в данных, а также визуализировать их.\n",
        "\n",
        "Данные: Используйте предоставленный CSV-файл (\"sales_cleaning_large.csv\"), содержащий данные о продажах с возможными пропущенными и некорректными значениями. Поля:\n",
        "\n",
        "date (дата продаж),\n",
        "sales (объем продаж),\n",
        "region (регион).\n",
        "Задание:\n",
        "\n",
        "Найдите и устраните ошибки в данных:\n",
        "1. Заполните пропущенные даты.\n",
        "2. Удалите отрицательные значения в столбце sales или замените их на медиану столбца.\n",
        "3. Заполните пропущенные значения в sales средним значением.\n",
        "4. Постройте график продаж по датам. Убедитесь, что даты упорядочены."
      ],
      "metadata": {
        "id": "ES7FxnCYe6QK"
      }
    },
    {
      "cell_type": "code",
      "source": [
        "df_cleaning = pd.read_csv('sales_cleaning_large.csv', sep = ',')\n",
        "df_cleaning.info()"
      ],
      "metadata": {
        "colab": {
          "base_uri": "https://localhost:8080/"
        },
        "id": "nSe47ujUfL_f",
        "outputId": "ac90ddb9-3564-43bf-d9fd-53ae930746ef"
      },
      "execution_count": 19,
      "outputs": [
        {
          "output_type": "stream",
          "name": "stdout",
          "text": [
            "<class 'pandas.core.frame.DataFrame'>\n",
            "RangeIndex: 200 entries, 0 to 199\n",
            "Data columns (total 3 columns):\n",
            " #   Column  Non-Null Count  Dtype  \n",
            "---  ------  --------------  -----  \n",
            " 0   date    190 non-null    object \n",
            " 1   sales   190 non-null    float64\n",
            " 2   region  200 non-null    object \n",
            "dtypes: float64(1), object(2)\n",
            "memory usage: 4.8+ KB\n"
          ]
        }
      ]
    },
    {
      "cell_type": "markdown",
      "source": [
        "Преобразуем дату в соотвествующий формат"
      ],
      "metadata": {
        "id": "i-IAZllxhk5N"
      }
    },
    {
      "cell_type": "code",
      "source": [
        "df_cleaning['date'] = pd.to_datetime(df_cleaning['date'])"
      ],
      "metadata": {
        "id": "HrhH2Ml4g7a3"
      },
      "execution_count": 24,
      "outputs": []
    },
    {
      "cell_type": "markdown",
      "source": [
        "Заполним пропуски дат модой по колонке date"
      ],
      "metadata": {
        "id": "mO-uvFnNhXSf"
      }
    },
    {
      "cell_type": "code",
      "source": [
        "most_frequent_date = df_cleaning['date'].mode()[0]\n",
        "df_cleaning['date'].fillna(most_frequent_date, inplace=True)"
      ],
      "metadata": {
        "id": "4C0j7F-whQA9"
      },
      "execution_count": 27,
      "outputs": []
    },
    {
      "cell_type": "markdown",
      "source": [
        "Определяем медиану по столбцу salse без учета отрицательных значений и заменяем отрицательные значения полученной медианой"
      ],
      "metadata": {
        "id": "Q14D59utiCkp"
      }
    },
    {
      "cell_type": "code",
      "source": [
        "median_sales = df_cleaning[df_cleaning['sales'] >= 0]['sales'].median()\n",
        "df_cleaning.loc[df_cleaning['sales'] < 0, 'sales'] = median_sales"
      ],
      "metadata": {
        "id": "M1e4LpCyhtQ7"
      },
      "execution_count": 26,
      "outputs": []
    },
    {
      "cell_type": "markdown",
      "source": [
        "Высчитываем среднее значение по колонке salse и заполняем им пропуски в этой колонке."
      ],
      "metadata": {
        "id": "frKz4ovSiqpj"
      }
    },
    {
      "cell_type": "code",
      "source": [
        "mean_sales = df_cleaning['sales'].mean()\n",
        "df_cleaning['sales'].fillna(mean_sales, inplace=True)"
      ],
      "metadata": {
        "colab": {
          "base_uri": "https://localhost:8080/"
        },
        "id": "ZzR6PR2liaXG",
        "outputId": "a1f86da8-cc79-4b77-dce9-953c2e72068a"
      },
      "execution_count": 29,
      "outputs": [
        {
          "output_type": "stream",
          "name": "stderr",
          "text": [
            "<ipython-input-29-5f2352b4fa2d>:2: FutureWarning: A value is trying to be set on a copy of a DataFrame or Series through chained assignment using an inplace method.\n",
            "The behavior will change in pandas 3.0. This inplace method will never work because the intermediate object on which we are setting values always behaves as a copy.\n",
            "\n",
            "For example, when doing 'df[col].method(value, inplace=True)', try using 'df.method({col: value}, inplace=True)' or df[col] = df[col].method(value) instead, to perform the operation inplace on the original object.\n",
            "\n",
            "\n",
            "  df_cleaning['sales'].fillna(mean_sales, inplace=True)\n"
          ]
        }
      ]
    },
    {
      "cell_type": "markdown",
      "source": [
        "Формируем данные для графика - суммируем объем продаж на конкретную дату и сортируем полученные данные в порядке возрастания дат. После чего формируем график.\n",
        "В виду того, что пропуски даты мы запомнили модой, то мы видим существенный всплеск 13.12.2024"
      ],
      "metadata": {
        "id": "bfSs3qqikARO"
      }
    },
    {
      "cell_type": "code",
      "source": [
        "sales_by_date = df_cleaning.groupby('date')['sales'].sum().reset_index()\n",
        "sales_by_date = sales_by_date.sort_values(by='date')\n",
        "plt.figure(figsize=(18, 9))\n",
        "plt.plot(sales_by_date['date'], sales_by_date['sales'])\n",
        "plt.xlabel('Дата')\n",
        "plt.ylabel('Продажи')\n",
        "plt.title('График продаж по датам')\n",
        "plt.grid(True)\n",
        "plt.show()"
      ],
      "metadata": {
        "colab": {
          "base_uri": "https://localhost:8080/",
          "height": 678
        },
        "id": "qzUEkq1Fi75D",
        "outputId": "7796cce6-8335-4c80-b80c-19f13d872415"
      },
      "execution_count": 34,
      "outputs": [
        {
          "output_type": "display_data",
          "data": {
            "text/plain": [
              "<Figure size 1800x900 with 1 Axes>"
            ],
            "image/png": "[encoded data removed]"
          },
          "metadata": {}
        }
      ]
    },
    {
      "cell_type": "markdown",
      "source": [
        "**Задание 4:**\n",
        "\n",
        "Получение данных из API\n",
        "\n",
        "Цель:\n",
        "\n",
        "Проверить способность работать с веб-данными.\n",
        "\n",
        "Задание:\n",
        "\n",
        "Используйте открытое API (например, https://jsonplaceholder.typicode.com/users).\n",
        "Загрузите данные и создайте DataFrame с полями: id, name, email, company_name.\n",
        "Выведите таблицу с пользователями, работающими в компаниях, название которых содержит слово \"Group\"."
      ],
      "metadata": {
        "id": "dbhVc4Y-kvK_"
      }
    },
    {
      "cell_type": "code",
      "source": [
        "response = requests.get('https://jsonplaceholder.typicode.com/users')\n",
        "data = response.json()\n",
        "df = pd.DataFrame(data)\n",
        "users_df = df[['id', 'name', 'email']].copy()\n",
        "users_df.loc[:, 'company_name'] = df['company'].apply(lambda x: x['name'])\n",
        "filtered_users = users_df[users_df['company_name'].str.contains(\"Group\")]\n",
        "print(filtered_users)"
      ],
      "metadata": {
        "colab": {
          "base_uri": "https://localhost:8080/"
        },
        "id": "0cxWdQhzlXW3",
        "outputId": "f3b7441c-32f1-42b1-d794-340aeab8ed03"
      },
      "execution_count": 46,
      "outputs": [
        {
          "output_type": "stream",
          "name": "stdout",
          "text": [
            "   id                      name                   email     company_name\n",
            "6   7           Kurtis Weissnat  Telly.Hoeger@billy.biz      Johns Group\n",
            "7   8  Nicholas Runolfsdottir V    Sherwood@rosamond.me  Abernathy Group\n"
          ]
        }
      ]
    }
  ]
}